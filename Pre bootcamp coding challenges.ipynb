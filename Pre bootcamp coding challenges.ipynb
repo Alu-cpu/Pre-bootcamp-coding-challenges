{
 "cells": [
  {
   "cell_type": "markdown",
   "metadata": {},
   "source": [
    "# Task 1"
   ]
  },
  {
   "cell_type": "code",
   "execution_count": 4,
   "metadata": {},
   "outputs": [
    {
     "name": "stdout",
     "output_type": "stream",
     "text": [
      "0\n",
      "1\n",
      "3\n",
      "4\n"
     ]
    }
   ],
   "source": [
    "x = 0\n",
    "y = 1\n",
    "print(x) # output the initial value of x: 0\n",
    "print(y) # output the initial value of y: 1\n",
    "x += 3 # increment x by 3: 0 + 3 = 3\n",
    "y += x # increment y by the current value of x: 1 + 3 = 4\n",
    "print(x)\n",
    "print(y)\n"
   ]
  },
  {
   "cell_type": "code",
   "execution_count": null,
   "metadata": {},
   "outputs": [],
   "source": []
  },
  {
   "cell_type": "markdown",
   "metadata": {},
   "source": [
    "# Task 2"
   ]
  },
  {
   "cell_type": "code",
   "execution_count": 7,
   "metadata": {},
   "outputs": [
    {
     "name": "stdout",
     "output_type": "stream",
     "text": [
      "3\n",
      "4\n",
      "3\n",
      "2.0\n",
      "1.5\n"
     ]
    }
   ],
   "source": [
    "x = 1 + 1 * 2 # this will be executed from the right to the left\n",
    "\n",
    "y = (1 + 1) * 2 # first simplify what is inside the brackets to give 2, then multiply by 2 to give 4\n",
    "\n",
    "z = 1 + ( 1 * 2 ) # simplify the brackets to give 2 then add 1 to give 3\n",
    "\n",
    "a =  1 + 1 * 2 / 2 # execute from right to left, the final results will be a float, 2.0, because of the / sign\n",
    "\n",
    "b =  (1 + 1 * 2 ) / 2 # first deal with the brackets, inside the brackets multiplication will be performed before the addition, and then divide by 2. End results will be a float, 1.5, because of /\n",
    "\n",
    "print(x)\n",
    "print(y)\n",
    "print(z)\n",
    "print(a)\n",
    "print(b)"
   ]
  },
  {
   "cell_type": "code",
   "execution_count": null,
   "metadata": {},
   "outputs": [],
   "source": []
  },
  {
   "cell_type": "markdown",
   "metadata": {},
   "source": [
    "# Task 3"
   ]
  },
  {
   "cell_type": "markdown",
   "metadata": {},
   "source": [
    "Write a function that takes 2 numbers as input. If either of the numbers is 65, OR if the sum of the numbers is 65 then return true. Otherwise return false."
   ]
  },
  {
   "cell_type": "code",
   "execution_count": 273,
   "metadata": {},
   "outputs": [
    {
     "name": "stdout",
     "output_type": "stream",
     "text": [
      "Enter the first number: 65\n",
      "Enter the second number: 8\n"
     ]
    },
    {
     "data": {
      "text/plain": [
       "True"
      ]
     },
     "execution_count": 273,
     "metadata": {},
     "output_type": "execute_result"
    }
   ],
   "source": [
    "def contains_65(x, y):\n",
    "    if (x == 65 or y == 65) or (x + y == 65):\n",
    "        return True\n",
    "    else:\n",
    "        return False\n",
    "\n",
    "# take numbers from the user\n",
    "x = int(input(\"Enter the first number: \")) \n",
    "y = int(input(\"Enter the second number: \"))\n",
    "\n",
    "contains_65(x, y) # call the function"
   ]
  },
  {
   "cell_type": "markdown",
   "metadata": {},
   "source": [
    "# Task 4"
   ]
  },
  {
   "cell_type": "markdown",
   "metadata": {},
   "source": [
    "Write a function that takes 2 numbers as input. If either of the numbers is 3 AND the sum of the numbers contains a 3 then return true. Otherwise return false"
   ]
  },
  {
   "cell_type": "code",
   "execution_count": 272,
   "metadata": {},
   "outputs": [
    {
     "name": "stdout",
     "output_type": "stream",
     "text": [
      "Enter the first number: 67\n",
      "Enter the second number: 3\n"
     ]
    },
    {
     "data": {
      "text/plain": [
       "False"
      ]
     },
     "execution_count": 272,
     "metadata": {},
     "output_type": "execute_result"
    }
   ],
   "source": [
    "def contains_3(a, b):\n",
    "    if (a == 3 or b ==3) and (\"3\" in str(a + b)):\n",
    "        return True\n",
    "    else:\n",
    "        return False\n",
    "\n",
    "# take numbers from the user\n",
    "a = int(input(\"Enter the first number: \"))\n",
    "b = int(input(\"Enter the second number: \"))\n",
    "\n",
    "contains_3(a, b)"
   ]
  },
  {
   "cell_type": "code",
   "execution_count": null,
   "metadata": {},
   "outputs": [],
   "source": []
  },
  {
   "cell_type": "markdown",
   "metadata": {},
   "source": [
    "# Task 5"
   ]
  },
  {
   "cell_type": "markdown",
   "metadata": {},
   "source": [
    "Write a function that takes in three numbers. These numbers represent the lengths of the sides of a triangle. The function should return the area of a triangle."
   ]
  },
  {
   "cell_type": "code",
   "execution_count": 270,
   "metadata": {},
   "outputs": [],
   "source": [
    "def triangle_area(a, b, c): # a, b and c are the sides of a triangle\n",
    "    s = 0.5*(a + b + c) # first calculate the semi perimeter using this formula\n",
    "    area = (s*(s-a)*(s-b)*(s-c))**0.5 \n",
    "    return area"
   ]
  },
  {
   "cell_type": "code",
   "execution_count": 271,
   "metadata": {},
   "outputs": [
    {
     "data": {
      "text/plain": [
       "6.0"
      ]
     },
     "execution_count": 271,
     "metadata": {},
     "output_type": "execute_result"
    }
   ],
   "source": [
    "triangle_area(3,4,5) # function call"
   ]
  },
  {
   "cell_type": "code",
   "execution_count": null,
   "metadata": {},
   "outputs": [],
   "source": []
  },
  {
   "cell_type": "markdown",
   "metadata": {},
   "source": [
    "# Task 6"
   ]
  },
  {
   "cell_type": "markdown",
   "metadata": {},
   "source": [
    "White a function that takes in three numbers and returns the maximum number. Do this without using any builtin methods. Write your own logic from scratch.\n",
    "\n",
    "Bonus: How can you change the code so it can take in any number of numbers?"
   ]
  },
  {
   "cell_type": "code",
   "execution_count": 215,
   "metadata": {},
   "outputs": [
    {
     "name": "stdout",
     "output_type": "stream",
     "text": [
      "Maximum number is: 5\n"
     ]
    }
   ],
   "source": [
    "def maximum_num(x, y, z):\n",
    "    if x >= y and x >= z:\n",
    "        return x\n",
    "    elif y >= x and y >= z:\n",
    "        return y\n",
    "    else:\n",
    "        return z\n",
    "\n",
    "print(\"Maximum number is:\", maximum_num(3,4,5))"
   ]
  },
  {
   "cell_type": "code",
   "execution_count": null,
   "metadata": {},
   "outputs": [],
   "source": []
  },
  {
   "cell_type": "code",
   "execution_count": 278,
   "metadata": {},
   "outputs": [
    {
     "name": "stdout",
     "output_type": "stream",
     "text": [
      "Maximum is: 10\n"
     ]
    }
   ],
   "source": [
    "# answering the bonus question\n",
    "def maximum_num_modified(*k): # *k will allow the function to take any number of numbers\n",
    "    Max = 0\n",
    "    for i in k:\n",
    "        if i > Max:\n",
    "            Max = i\n",
    "    return Max\n",
    "\n",
    "print(\"Maximum is:\", maximum_num_modified(5,10,3,4,9,6,7,2,1,8,10))"
   ]
  },
  {
   "cell_type": "code",
   "execution_count": null,
   "metadata": {},
   "outputs": [],
   "source": []
  },
  {
   "cell_type": "markdown",
   "metadata": {},
   "source": [
    "# Task 7"
   ]
  },
  {
   "cell_type": "markdown",
   "metadata": {},
   "source": [
    "Write a function that takes in a number representing the temperature in Celsius and returns the temperature in Fahrenheit. Write another function that does the opposite (Fereignheit to Celsius)"
   ]
  },
  {
   "cell_type": "code",
   "execution_count": 218,
   "metadata": {},
   "outputs": [
    {
     "name": "stdout",
     "output_type": "stream",
     "text": [
      "Temperature in Fahrenheit is: 77.0\n"
     ]
    }
   ],
   "source": [
    "def celcius_to_fahrenheit(c):\n",
    "    temperature_in_fahrenheit = c * 1.8 + 32\n",
    "    return temperature_in_fahrenheit\n",
    "\n",
    "c = 25 # Temperature in Celcius\n",
    "print(\"Temperature in Fahrenheit is:\", celcius_to_fahrenheit(c))"
   ]
  },
  {
   "cell_type": "code",
   "execution_count": null,
   "metadata": {},
   "outputs": [],
   "source": []
  },
  {
   "cell_type": "code",
   "execution_count": 220,
   "metadata": {},
   "outputs": [
    {
     "name": "stdout",
     "output_type": "stream",
     "text": [
      "Temperature in Celcius is: 25.0\n"
     ]
    }
   ],
   "source": [
    "def fahrenheit_to_celcius(f):\n",
    "    temperature_in_celcius = (f - 32)/ 1.8\n",
    "    return temperature_in_celcius\n",
    "\n",
    "f = 77 # Temperature in Fahrenheit\n",
    "print(\"Temperature in Celcius is:\", fahrenheit_to_celcius(f))"
   ]
  },
  {
   "cell_type": "code",
   "execution_count": null,
   "metadata": {},
   "outputs": [],
   "source": []
  },
  {
   "cell_type": "markdown",
   "metadata": {},
   "source": [
    "# Task 8"
   ]
  },
  {
   "cell_type": "markdown",
   "metadata": {},
   "source": [
    "Make a function to convert any number into hours and minutes. (For example, 71 will become “1 hour, 11 minutes”; 133 will become “2 hours, 13 minutes”.)"
   ]
  },
  {
   "cell_type": "code",
   "execution_count": 264,
   "metadata": {},
   "outputs": [],
   "source": [
    "def time(number):\n",
    "    hours = number//60\n",
    "    minutes = number % 60\n",
    "    if hours == 1 and minutes == 1:\n",
    "        time_in_hours_minutes = str(hours) + \" hour\" + \", \" + str(minutes) + \" minute\"\n",
    "    elif hours == 1 and minutes > 1:\n",
    "        time_in_hours_minutes = str(hours) + \" hour\" + \", \" + str(minutes) + \" minutes\"\n",
    "    elif hours > 1 and minutes == 1:\n",
    "        time_in_hours_minutes = str(hours) + \" hours\" + \", \" + str(minutes) + \" minute\" \n",
    "    else:\n",
    "        time_in_hours_minutes = str(hours) + \" hours\" + \", \" + str(minutes) + \" minutes\"\n",
    "    return time_in_hours_minutes\n"
   ]
  },
  {
   "cell_type": "code",
   "execution_count": 266,
   "metadata": {},
   "outputs": [
    {
     "data": {
      "text/plain": [
       "'5 hours, 1 minute'"
      ]
     },
     "execution_count": 266,
     "metadata": {},
     "output_type": "execute_result"
    }
   ],
   "source": [
    "time(301)"
   ]
  },
  {
   "cell_type": "code",
   "execution_count": 267,
   "metadata": {},
   "outputs": [
    {
     "data": {
      "text/plain": [
       "'1 hour, 11 minutes'"
      ]
     },
     "execution_count": 267,
     "metadata": {},
     "output_type": "execute_result"
    }
   ],
   "source": [
    "time(71)"
   ]
  },
  {
   "cell_type": "code",
   "execution_count": 268,
   "metadata": {},
   "outputs": [
    {
     "data": {
      "text/plain": [
       "'2 hours, 13 minutes'"
      ]
     },
     "execution_count": 268,
     "metadata": {},
     "output_type": "execute_result"
    }
   ],
   "source": [
    "time(133)"
   ]
  },
  {
   "cell_type": "code",
   "execution_count": 269,
   "metadata": {},
   "outputs": [
    {
     "data": {
      "text/plain": [
       "'1 hour, 1 minute'"
      ]
     },
     "execution_count": 269,
     "metadata": {},
     "output_type": "execute_result"
    }
   ],
   "source": [
    "time(61)"
   ]
  },
  {
   "cell_type": "markdown",
   "metadata": {},
   "source": [
    "# Task 9"
   ]
  },
  {
   "cell_type": "markdown",
   "metadata": {},
   "source": [
    "If we list all the natural numbers below 10 that are multiples of 3 or 5, we get 3, 5, 6 and 9. The sum of these multiples is 23.\n",
    "\n",
    "Find the sum of all the multiples of 3 or 5 below 1000."
   ]
  },
  {
   "cell_type": "code",
   "execution_count": 158,
   "metadata": {},
   "outputs": [
    {
     "name": "stdout",
     "output_type": "stream",
     "text": [
      "Sum of the multiples is:  233168\n"
     ]
    }
   ],
   "source": [
    "natural_numbers = range(1, 1000)\n",
    "Sum = 0\n",
    "for i in natural_numbers:\n",
    "    if i % 3 == 0 or i % 5 == 0:\n",
    "        Sum += i\n",
    "print(\"Sum of the multiples is: \", Sum)"
   ]
  },
  {
   "cell_type": "code",
   "execution_count": null,
   "metadata": {},
   "outputs": [],
   "source": []
  },
  {
   "cell_type": "markdown",
   "metadata": {},
   "source": [
    "# Task 10"
   ]
  },
  {
   "cell_type": "markdown",
   "metadata": {},
   "source": [
    "Write a function that takes in a string and then prints out all the vowels in the string. Make sure it can deal with capital letters and small letters."
   ]
  },
  {
   "cell_type": "code",
   "execution_count": 165,
   "metadata": {},
   "outputs": [],
   "source": [
    "def vowels(string):\n",
    "    vowels ='aeiouAEIOU'\n",
    "    for i in string:\n",
    "        if i in vowels:\n",
    "            print(i)"
   ]
  },
  {
   "cell_type": "code",
   "execution_count": 166,
   "metadata": {},
   "outputs": [
    {
     "name": "stdout",
     "output_type": "stream",
     "text": [
      "A\n",
      "u\n",
      "i\n",
      "e\n"
     ]
    }
   ],
   "source": [
    "vowels(\"Alungile\")"
   ]
  },
  {
   "cell_type": "code",
   "execution_count": null,
   "metadata": {},
   "outputs": [],
   "source": []
  },
  {
   "cell_type": "markdown",
   "metadata": {},
   "source": [
    "# Task 11"
   ]
  },
  {
   "cell_type": "markdown",
   "metadata": {},
   "source": [
    "Make a function that takes two strings as input, and outputs the common characters/letters that they share. (For example, Input: ‘house’, ‘computers’ . Output: ‘Common letters: o, u, e, s’)"
   ]
  },
  {
   "cell_type": "code",
   "execution_count": 253,
   "metadata": {},
   "outputs": [
    {
     "name": "stdout",
     "output_type": "stream",
     "text": [
      "Enter the first string: house\n",
      "Enter the second string: computers\n",
      "Common letters:  o,u,e,s\n"
     ]
    }
   ],
   "source": [
    "def common_letters(str1, str2):\n",
    "    common_characters = \"\"\n",
    "    for each_char in str2:\n",
    "        if each_char in str1:\n",
    "            common_characters += each_char\n",
    "    return \",\".join(common_characters)\n",
    "\n",
    "str1 = input(\"Enter the first string: \")\n",
    "str2 = input(\"Enter the second string: \")\n",
    "\n",
    "print(\"Common letters: \", common_letters(str1, str2))"
   ]
  },
  {
   "cell_type": "code",
   "execution_count": null,
   "metadata": {},
   "outputs": [],
   "source": []
  }
 ],
 "metadata": {
  "kernelspec": {
   "display_name": "Python 3",
   "language": "python",
   "name": "python3"
  },
  "language_info": {
   "codemirror_mode": {
    "name": "ipython",
    "version": 3
   },
   "file_extension": ".py",
   "mimetype": "text/x-python",
   "name": "python",
   "nbconvert_exporter": "python",
   "pygments_lexer": "ipython3",
   "version": "3.7.6"
  }
 },
 "nbformat": 4,
 "nbformat_minor": 4
}
